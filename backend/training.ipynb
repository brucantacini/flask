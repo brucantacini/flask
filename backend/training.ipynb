{
 "cells": [
  {
   "cell_type": "code",
   "execution_count": 49,
   "metadata": {},
   "outputs": [],
   "source": [
    "import pandas as pd\n",
    "import numpy as np\n",
    "from sklearn.model_selection import train_test_split\n",
    "from sklearn.preprocessing import StandardScaler\n",
    "from sklearn.pipeline import Pipeline\n",
    "from sklearn.linear_model import LinearRegression\n",
    "from sklearn.ensemble import RandomForestRegressor, GradientBoostingRegressor\n",
    "from sklearn.metrics import mean_absolute_error, mean_squared_error\n",
    "from sklearn.impute import SimpleImputer \n",
    "import joblib\n",
    "import pickle"
   ]
  },
  {
   "cell_type": "code",
   "execution_count": 50,
   "metadata": {},
   "outputs": [
    {
     "name": "stderr",
     "output_type": "stream",
     "text": [
      "c:\\AppData\\Local\\Temp\\ipykernel_10188\\2828837387.py:7: FutureWarning: DataFrame.applymap has been deprecated. Use DataFrame.map instead.\n",
      "  df = df.applymap(lambda x: x.strip() if isinstance(x, str) else x)\n"
     ]
    }
   ],
   "source": [
    "# 1. Carregamento e limpeza dos dados\n",
    "df = pd.read_csv(\"./termotrilho.csv\", delimiter=';')\n",
    "df.columns = [\n",
    "    \"data\", \"hora_utc\", \"precipitacao\", \"temperatura_ar\", \"umidade_ar\",\n",
    "    \"temperatura_trilho\", \"radiacao_solar\", \"velocidade_vento\"\n",
    "]\n",
    "df = df.applymap(lambda x: x.strip() if isinstance(x, str) else x)\n",
    "\n",
    "df[\"precipitacao\"] = df[\"precipitacao\"].str.replace(\" mm\", \"\", regex=False).astype(float)\n",
    "df[\"temperatura_ar\"] = df[\"temperatura_ar\"].astype(float)\n",
    "df[\"umidade_ar\"] = df[\"umidade_ar\"].astype(float)\n",
    "df[\"temperatura_trilho\"] = df[\"temperatura_trilho\"].astype(float)\n",
    "df[\"radiacao_solar\"] = df[\"radiacao_solar\"].astype(float)\n",
    "df[\"velocidade_vento\"] = df[\"velocidade_vento\"].astype(float)\n",
    "\n",
    "# Remover registros com valor nulo em 'temperatura_trilho'\n",
    "df = df.dropna(subset=[\"temperatura_trilho\"])\n",
    "\n",
    "# Seleção de features e target\n",
    "X = df.drop(columns=[\"data\", \"hora_utc\", \"temperatura_trilho\"])\n",
    "y = df[\"temperatura_trilho\"]"
   ]
  },
  {
   "cell_type": "code",
   "execution_count": 51,
   "metadata": {},
   "outputs": [],
   "source": [
    "# 2. Seleção de features e target\n",
    "X = df.drop(columns=[\"data\", \"hora_utc\", \"temperatura_trilho\"])\n",
    "y = df[\"temperatura_trilho\"]"
   ]
  },
  {
   "cell_type": "code",
   "execution_count": 52,
   "metadata": {},
   "outputs": [],
   "source": [
    "# 3. Divisão treino/teste\n",
    "X_train, X_test, y_train, y_test = train_test_split(X, y, test_size=0.2, random_state=42)"
   ]
  },
  {
   "cell_type": "code",
   "execution_count": 53,
   "metadata": {},
   "outputs": [],
   "source": [
    "# 4. Definição dos modelos\n",
    "modelos = {\n",
    "    \"Linear Regression\": Pipeline([\n",
    "        (\"imputer\", SimpleImputer(strategy=\"mean\")), # Add imputer to pipeline\n",
    "        (\"scaler\", StandardScaler()),\n",
    "        (\"regressor\", LinearRegression())\n",
    "    ]),\n",
    "    \"Random Forest\": Pipeline([\n",
    "        (\"imputer\", SimpleImputer(strategy=\"mean\")), # Add imputer to pipeline\n",
    "        (\"scaler\", StandardScaler()),\n",
    "        (\"regressor\", RandomForestRegressor(random_state=42))\n",
    "    ]),\n",
    "    \"Gradient Boosting\": Pipeline([\n",
    "        (\"imputer\", SimpleImputer(strategy=\"mean\")), # Add imputer to pipeline\n",
    "        (\"scaler\", StandardScaler()),\n",
    "        (\"regressor\", GradientBoostingRegressor(random_state=42))\n",
    "    ])\n",
    "}"
   ]
  },
  {
   "cell_type": "code",
   "execution_count": 54,
   "metadata": {},
   "outputs": [
    {
     "name": "stdout",
     "output_type": "stream",
     "text": [
      "Linear Regression => MAE: 0.33, RMSE: 0.48\n",
      "Random Forest => MAE: 0.77, RMSE: 1.57\n",
      "Gradient Boosting => MAE: 0.75, RMSE: 1.51\n"
     ]
    }
   ],
   "source": [
    "# 5. Treinar, avaliar e escolher o melhor modelo\n",
    "\n",
    "resultados = {}\n",
    "melhor_modelo = None\n",
    "melhor_rmse = float(\"inf\")\n",
    "\n",
    "for nome, pipeline in modelos.items():\n",
    "    pipeline.fit(X_train, y_train)\n",
    "    preds = pipeline.predict(X_test)\n",
    "    mae = mean_absolute_error(y_test, preds)\n",
    "    rmse = np.sqrt(mean_squared_error(y_test, preds))\n",
    "    resultados[nome] = {\"MAE\": mae, \"RMSE\": rmse}\n",
    "    print(f\"{nome} => MAE: {mae:.2f}, RMSE: {rmse:.2f}\")\n",
    "    \n",
    "    if rmse < melhor_rmse:\n",
    "        melhor_rmse = rmse\n",
    "        melhor_modelo = pipeline"
   ]
  },
  {
   "cell_type": "code",
   "execution_count": 55,
   "metadata": {},
   "outputs": [
    {
     "name": "stdout",
     "output_type": "stream",
     "text": [
      "\n",
      "Modelo salvo como 'modelo_trem.pkl'\n"
     ]
    }
   ],
   "source": [
    "# Salvar o melhor modelo com joblib\n",
    "joblib.dump(melhor_modelo, \"modelo_trem.pkl\")\n",
    "print(\"\\nModelo salvo como 'modelo_trem.pkl'\")"
   ]
  },
  {
   "cell_type": "code",
   "execution_count": 56,
   "metadata": {},
   "outputs": [
    {
     "name": "stdout",
     "output_type": "stream",
     "text": [
      "Tipo do objeto carregado: <class 'numpy.ndarray'>\n"
     ]
    }
   ],
   "source": [
    "model = pickle.load(open(\"modelo_trem.pkl\", \"rb\"))\n",
    "print(f\"Tipo do objeto carregado: {type(model)}\")"
   ]
  }
 ],
 "metadata": {
  "kernelspec": {
   "display_name": "Python 3",
   "language": "python",
   "name": "python3"
  },
  "language_info": {
   "codemirror_mode": {
    "name": "ipython",
    "version": 3
   },
   "file_extension": ".py",
   "mimetype": "text/x-python",
   "name": "python",
   "nbconvert_exporter": "python",
   "pygments_lexer": "ipython3",
   "version": "3.12.3"
  }
 },
 "nbformat": 4,
 "nbformat_minor": 2
}
